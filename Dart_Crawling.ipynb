{
 "cells": [
  {
   "cell_type": "code",
   "execution_count": null,
   "metadata": {},
   "outputs": [],
   "source": [
    "from urllib.request import urlopen\n",
    "import pandas as pd\n",
    "import numpy as np\n",
    "from bs4 import BeautifulSoup"
   ]
  },
  {
   "cell_type": "code",
   "execution_count": null,
   "metadata": {},
   "outputs": [],
   "source": [
    "# 연도별로 엑셀자료에 정렬해놓은 데이터 가져오기 (2010 ~ 2019년)\n",
    "# 회사코드 Symbol에서 앞에 'A'제거하고 숫자만 가져오는 과정\n",
    "\n",
    "data_2010 = pd.read_excel(\"코스피200 편입여부.xlsx\", sheet_name=\"2010-01-31\")   # 2011-01-31, 2012-01-31, ...\n",
    "i = 0\n",
    "for d in data_2010['Symbol']:                           # output은 오류가 뜨지만 'Symbol'앞에 'A'제거하는 과정이 적용된 상태\n",
    "    data_2010.iloc[i, 0] = data_2010.iloc[i, 0][1:]\n",
    "    i = i + 1"
   ]
  },
  {
   "cell_type": "code",
   "execution_count": null,
   "metadata": {},
   "outputs": [],
   "source": [
    "# company_code & company_name\n",
    "\n",
    "K_2010 = data_2010.iloc[:200,0:2]\n",
    "K_2010_code = list(K_2010[\"Symbol\"])\n",
    "K_2010_name = list(K_2010[\"company_name\"])\n",
    "K_2010_new = K_2010.set_index(\"Symbol\")     # 'company_code'를 index로 만들어 제외된 회사, 추가된 회사를 list로 만들기 위한 변수"
   ]
  },
  {
   "cell_type": "code",
   "execution_count": null,
   "metadata": {},
   "outputs": [],
   "source": [
    "# Dart의 IP차단을 막기 위해 갯수 설정\n",
    "\n",
    "K_2010_code_part = K_2010_code[:40]      # 40 ~ 80 , ... , 160 ~ 200\n",
    "K_2010_code_part"
   ]
  },
  {
   "cell_type": "code",
   "execution_count": null,
   "metadata": {},
   "outputs": [],
   "source": [
    "# 주소(url) setting\n",
    "\n",
    "API_KEY = \"9a9929b43fd4c79e06cc04d50eb34a70a0a576b1\"\n",
    "start_date = \"20100101\"\n",
    "end_date = \"20191231\"\n",
    "page_set = \"100\"   # 페이지당 건수\n",
    "# auth : 발급받은 인증키(40자리)\n",
    "# crp_cd : 공시대상회사의 종목코드(상장사:6자리 숫자) 또는 고유번호(기타법인:8자리 숫자)\n",
    "# start_dt, end_dt : 검색시작,끝 접수일자\n",
    "# dsn_tp : A001(사업보고서)\n",
    "\n",
    "url_list = []\n",
    "for crp in K_2010_code_part:\n",
    "    company_code = crp   \n",
    "    url = \"http://dart.fss.or.kr/api/search.xml?auth=\" + API_KEY + \"&crp_cd=\" + company_code + \"&start_dt=\" + start_date + \"&end_dt=\" + end_date + \"&bsn_tp=A001&page_set=\" + page_set  \n",
    "    url_list.append(url)\n",
    "url_list"
   ]
  },
  {
   "cell_type": "code",
   "execution_count": null,
   "metadata": {},
   "outputs": [],
   "source": [
    "# 각 연도별로 코스피200종목 회사들의 2010 ~ 2019년 모든 사업보고서 리스트를 데이터프레임으로 반환\n",
    "\n",
    "def data_extract():\n",
    "    url_lists = url_list\n",
    "    data_finals = pd.DataFrame()\n",
    "    for url in url_lists:\n",
    "        xmlsoup = BeautifulSoup(urlopen(url).read(), 'html.parser')\n",
    "        te = xmlsoup.findAll(\"list\")\n",
    "        data = pd.DataFrame()\n",
    "        for t in te:\n",
    "            temp = pd.DataFrame(([[t.crp_cls.string, t.crp_nm.string, t.crp_cd.string, t.rpt_nm.string,\n",
    "                              t.rcp_no.string, t.flr_nm.string, t.rcp_dt.string, t.rmk.string]]),\n",
    "                              columns = [\"crp_cls\", \"crp_nm\", \"crp_cd\", \"rpt_nm\", \"rcp_no\", \"flr_nm\", \"rcp_dt\", \"rmk\"])\n",
    "            data = pd.concat([data,temp])\n",
    "            data_result = data\n",
    "        data_result = data_result[data_result['rmk'] != '정연']   # '정연'은 수정된 사업보고서가 제출되기 이전의 보고서이므로 제외\n",
    "        data_finals = pd.concat([data_finals, data_result])\n",
    "        data_finals = data_finals.reset_index(drop=True)\n",
    "        # 중복된 사업보고서 삭제\n",
    "        data_finals = data_finals.drop_duplicates(['crp_cls', 'crp_nm', 'crp_cd', 'rpt_nm', 'rcp_no', 'flr_nm', 'rcp_dt', 'rmk'], keep='first')\n",
    "    return data_finals"
   ]
  },
  {
   "cell_type": "code",
   "execution_count": null,
   "metadata": {},
   "outputs": [],
   "source": [
    "report_result = data_extract()\n",
    "report_result"
   ]
  },
  {
   "cell_type": "code",
   "execution_count": null,
   "metadata": {},
   "outputs": [],
   "source": [
    "# csv file로 저장\n",
    "\n",
    "report_result.to_csv('C:/Users/PC/Desktop/2010/K_2010.csv', encoding='euc-kr') # 한글깨짐 방지"
   ]
  },
  {
   "cell_type": "markdown",
   "metadata": {},
   "source": [
    "#### 위의 과정 2010~2019년도(10번) 동일하게 진행"
   ]
  },
  {
   "cell_type": "code",
   "execution_count": null,
   "metadata": {},
   "outputs": [],
   "source": [
    "# filtering한 데이터 가져오기 (2010년 40개 기업마다 5개, 2011년 40개 기업마다 5개, ..., 2019년 40개 기업마다 5개로 총 50개의 csv파일에 대해)\n",
    "# (ex) K_2010_2010, K_2010_2010_2, K_2010_2010_3, ... , K_2019_2019_4, K_2019_2019_5\n",
    "\n",
    "data = pd.read_excel(\"C:/Users/PC/Desktop/2010/K_2010_2010.xlsx\", sheet_name = 'Sheet1', encoding='euc-kr')\n",
    "data = data.iloc[:-1,:]\n",
    "data"
   ]
  },
  {
   "cell_type": "code",
   "execution_count": null,
   "metadata": {},
   "outputs": [],
   "source": [
    "# rcp_no로 해당 사업보고서 url과 name 저장\n",
    "\n",
    "url_code = []\n",
    "url_name = []\n",
    "length = len(data)\n",
    "\n",
    "for t in range(length):\n",
    "    url = \"http://dart.fss.or.kr/dsaf001/main.do?rcpNo=\" + str(data['rcp_no'][t])[:-2]\n",
    "    url_code.append(url)\n",
    "    name = data['crp_nm'][t]\n",
    "    url_name.append(name)"
   ]
  },
  {
   "cell_type": "code",
   "execution_count": null,
   "metadata": {},
   "outputs": [],
   "source": [
    "# Dart 의 IP차단을 막기 위해 갯수 설정\n",
    "part_code = url_code[:20]\n",
    "part_name = url_name[:20]"
   ]
  },
  {
   "cell_type": "code",
   "execution_count": null,
   "metadata": {},
   "outputs": [],
   "source": [
    "# 사업보고서 url에 그대로 들어가면 각 파트별 HTML코드가 없음.\n",
    "# 따라서, 각 사업보고서의 HTML 코드에서 '이사의 경영진단 및 분석의견' url을 구한 뒤\n",
    "# BeautifulSoup으로 HTML코드 partitioning\n",
    "\n",
    "page_list = []\n",
    "for code in part_code:\n",
    "    page = BeautifulSoup(urlopen(code).read(), 'html.parser')  \n",
    "    body = str(page.find('head')).split('이사의 경영진단 및 분석의견\",')[1].split('cnt++')[0].split('viewDoc(')[1].split(')')[0].split(', ')\n",
    "    body = [body[i][1:-1] for i in range(len(body))]   \n",
    "    url_final = 'http://dart.fss.or.kr/report/viewer.do?rcpNo=' + body[0] + '&dcmNo=' + body[1] + '&eleId=' + body[2] + '&offset=' + body[3] + '&length=' + body[4] + '&dtd=' + body[5]\n",
    "    page = BeautifulSoup(urlopen(url_final).read(), 'html.parser')\n",
    "    page_list.append(page)\n",
    "    print(url_final)\n",
    "page_list"
   ]
  },
  {
   "cell_type": "code",
   "execution_count": null,
   "metadata": {},
   "outputs": [],
   "source": [
    "import re\n",
    "def remove_tag(content):             ## 태그를 제외하고 text만 가져오는 함수\n",
    "    cleanr = re.compile('<.*?>')\n",
    "    cleantext = re.sub(cleanr, '\\n', content)\n",
    "    return cleantext\n",
    "def remove_space(content):          # 개행문자인 \\n과 \\xa0제거\n",
    "    cleans = re.compile('[\\n]|[\\xa0]')\n",
    "    cleantext = re.sub(cleans, '', content)\n",
    "    return cleantext"
   ]
  },
  {
   "cell_type": "code",
   "execution_count": null,
   "metadata": {},
   "outputs": [],
   "source": [
    "# partitioning한 코드에서 재무제표 등의 표를 제거하고 텍스트만 가져오기 위해 'table'태그를 제거하는 과정\n",
    "\n",
    "page_partition = []\n",
    "for page_char in page_list:\n",
    "    whole_data = str(page_char).split('<')\n",
    "    table_data = page_char.find_all('table')\n",
    "    table_data_li = str(table_data).split('<')\n",
    "    whole_data_copy = whole_data.copy()\n",
    "\n",
    "    for table in table_data_li:\n",
    "        if (table in whole_data) == True:\n",
    "            whole_data_copy.remove(table)\n",
    "        \n",
    "    output = '<'.join(whole_data_copy)\n",
    "\n",
    "    output1 = remove_tag(output)\n",
    "    final = remove_space(output1)\n",
    "    page_partition.append(final)"
   ]
  },
  {
   "cell_type": "code",
   "execution_count": null,
   "metadata": {},
   "outputs": [],
   "source": [
    "page_partition"
   ]
  },
  {
   "cell_type": "code",
   "execution_count": null,
   "metadata": {},
   "outputs": [],
   "source": [
    "# txt file로 저장\n",
    "\n",
    "result_texts = zip(part_name, page_partition)\n",
    "for name,text in result_texts:\n",
    "    file = open('C:/Users/PC/Desktop/2010_text/%s 사업보고서.txt' %name, 'w', encoding='utf-8')\n",
    "    file.write(text)\n",
    "    file.close()"
   ]
  },
  {
   "cell_type": "markdown",
   "metadata": {},
   "source": [
    "#### 2010 ~ 2018년도 KOSPI200에 대해 약 1800개(9 * 200) txt파일 저장\n",
    "#### 2019년도 사업보고서는 아직 나오지 않음"
   ]
  }
 ],
 "metadata": {
  "kernelspec": {
   "display_name": "Python 3",
   "language": "python",
   "name": "python3"
  },
  "language_info": {
   "codemirror_mode": {
    "name": "ipython",
    "version": 3
   },
   "file_extension": ".py",
   "mimetype": "text/x-python",
   "name": "python",
   "nbconvert_exporter": "python",
   "pygments_lexer": "ipython3",
   "version": "3.7.4"
  }
 },
 "nbformat": 4,
 "nbformat_minor": 4
}
